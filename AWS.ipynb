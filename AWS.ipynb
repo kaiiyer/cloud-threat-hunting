{
 "cells": [
  {
   "cell_type": "markdown",
   "id": "e32cf514-8195-4b93-8402-20165e2e0ce3",
   "metadata": {},
   "source": [
    "## Imports"
   ]
  },
  {
   "cell_type": "code",
   "execution_count": 11,
   "id": "537d5c03-8960-4114-8164-0e44f237bb06",
   "metadata": {},
   "outputs": [],
   "source": [
    "import pandas as pd\n",
    "import matplotlib.pyplot as plt\n",
    "import warnings\n",
    "warnings.filterwarnings('ignore')\n",
    "import networkx as nx\n",
    "from matplotlib.pyplot import figure\n",
    "import matplotlib.pyplot as plt"
   ]
  },
  {
   "cell_type": "markdown",
   "id": "cbb1c1fe-30e7-426e-952d-9aa2d5c066c7",
   "metadata": {},
   "source": [
    "## AWS Defense Evasion Impair Security Services"
   ]
  },
  {
   "cell_type": "code",
   "execution_count": 12,
   "id": "42a85de2-ad3d-4ec8-9f37-ccb050a2b1ef",
   "metadata": {},
   "outputs": [
    {
     "data": {
      "text/html": [
       "<div>\n",
       "<style scoped>\n",
       "    .dataframe tbody tr th:only-of-type {\n",
       "        vertical-align: middle;\n",
       "    }\n",
       "\n",
       "    .dataframe tbody tr th {\n",
       "        vertical-align: top;\n",
       "    }\n",
       "\n",
       "    .dataframe thead th {\n",
       "        text-align: right;\n",
       "    }\n",
       "</style>\n",
       "<table border=\"1\" class=\"dataframe\">\n",
       "  <thead>\n",
       "    <tr style=\"text-align: right;\">\n",
       "      <th></th>\n",
       "      <th>eventSource</th>\n",
       "      <th>sourceIPAddress</th>\n",
       "      <th>userAgent</th>\n",
       "      <th>errorCode</th>\n",
       "      <th>count</th>\n",
       "      <th>firstTime</th>\n",
       "      <th>lastTime</th>\n",
       "      <th>eventName</th>\n",
       "    </tr>\n",
       "  </thead>\n",
       "  <tbody>\n",
       "    <tr>\n",
       "      <th>0</th>\n",
       "      <td>ec2.amazonaws.com</td>\n",
       "      <td>appstream.amazonaws.com</td>\n",
       "      <td>appstream.amazonaws.com</td>\n",
       "      <td>Client.InvalidNetworkInterface.InUse</td>\n",
       "      <td>3</td>\n",
       "      <td>2024-05-03 20:11:41+00:00</td>\n",
       "      <td>2024-05-03 21:06:43+00:00</td>\n",
       "      <td>[DeleteNetworkInterface]</td>\n",
       "    </tr>\n",
       "    <tr>\n",
       "      <th>1</th>\n",
       "      <td>ec2.amazonaws.com</td>\n",
       "      <td>glue.amazonaws.com</td>\n",
       "      <td>glue.amazonaws.com</td>\n",
       "      <td>Client.InvalidNetworkInterface.InUse</td>\n",
       "      <td>13</td>\n",
       "      <td>2024-05-03 19:45:19+00:00</td>\n",
       "      <td>2024-05-03 23:08:52+00:00</td>\n",
       "      <td>[DeleteNetworkInterface]</td>\n",
       "    </tr>\n",
       "    <tr>\n",
       "      <th>2</th>\n",
       "      <td>ec2.amazonaws.com</td>\n",
       "      <td>glue.amazonaws.com</td>\n",
       "      <td>glue.amazonaws.com</td>\n",
       "      <td>Client.InvalidNetworkInterfaceID.NotFound</td>\n",
       "      <td>92</td>\n",
       "      <td>2024-05-03 20:10:21+00:00</td>\n",
       "      <td>2024-05-03 23:09:55+00:00</td>\n",
       "      <td>[DeleteNetworkInterface]</td>\n",
       "    </tr>\n",
       "    <tr>\n",
       "      <th>3</th>\n",
       "      <td>ec2.amazonaws.com</td>\n",
       "      <td>glue.amazonaws.com</td>\n",
       "      <td>glue.amazonaws.com</td>\n",
       "      <td>Client.InvalidParameterValue</td>\n",
       "      <td>673</td>\n",
       "      <td>2024-05-03 19:33:23+00:00</td>\n",
       "      <td>2024-05-03 23:22:41+00:00</td>\n",
       "      <td>[DeleteNetworkInterface]</td>\n",
       "    </tr>\n",
       "  </tbody>\n",
       "</table>\n",
       "</div>"
      ],
      "text/plain": [
       "         eventSource          sourceIPAddress                userAgent  \\\n",
       "0  ec2.amazonaws.com  appstream.amazonaws.com  appstream.amazonaws.com   \n",
       "1  ec2.amazonaws.com       glue.amazonaws.com       glue.amazonaws.com   \n",
       "2  ec2.amazonaws.com       glue.amazonaws.com       glue.amazonaws.com   \n",
       "3  ec2.amazonaws.com       glue.amazonaws.com       glue.amazonaws.com   \n",
       "\n",
       "                                   errorCode  count                 firstTime  \\\n",
       "0       Client.InvalidNetworkInterface.InUse      3 2024-05-03 20:11:41+00:00   \n",
       "1       Client.InvalidNetworkInterface.InUse     13 2024-05-03 19:45:19+00:00   \n",
       "2  Client.InvalidNetworkInterfaceID.NotFound     92 2024-05-03 20:10:21+00:00   \n",
       "3               Client.InvalidParameterValue    673 2024-05-03 19:33:23+00:00   \n",
       "\n",
       "                   lastTime                 eventName  \n",
       "0 2024-05-03 21:06:43+00:00  [DeleteNetworkInterface]  \n",
       "1 2024-05-03 23:08:52+00:00  [DeleteNetworkInterface]  \n",
       "2 2024-05-03 23:09:55+00:00  [DeleteNetworkInterface]  \n",
       "3 2024-05-03 23:22:41+00:00  [DeleteNetworkInterface]  "
      ]
     },
     "execution_count": 12,
     "metadata": {},
     "output_type": "execute_result"
    }
   ],
   "source": [
    "import pandas as pd\n",
    "\n",
    "df = pd.read_csv('AwsApiCallX.csv')\n",
    "\n",
    "# Filter the DataFrame based on required condition\n",
    "filtered_logs = df[df['eventName'].isin(['DeleteAlarms', 'DeleteTags', 'DeleteMetricFilter', 'DeletePolicyVersion', 'DeleteChangeSet', 'DeleteRolePolicy', 'DeleteLogGroup', 'AdminDeleteUser', 'DeleteTable', 'DeleteNetworkInterface', 'DeleteWebACL', 'DeleteRule', 'DeleteRuleGroup', 'DeleteLoggingConfiguration'])]\n",
    "filtered_logs['eventTime'] = pd.to_datetime(filtered_logs['eventTime'])\n",
    "\n",
    "# Aggregate stats\n",
    "stats = filtered_logs.groupby(['eventSource', 'sourceIPAddress', 'userAgent', 'errorCode']).agg(\n",
    "    count=pd.NamedAgg(column='eventTime', aggfunc='count'),\n",
    "    firstTime=pd.NamedAgg(column='eventTime', aggfunc='min'),\n",
    "    lastTime=pd.NamedAgg(column='eventTime', aggfunc='max'),\n",
    "    eventName=pd.NamedAgg(column='eventName', aggfunc='unique')\n",
    ").reset_index()\n",
    "\n",
    "stats"
   ]
  },
  {
   "cell_type": "code",
   "execution_count": 3,
   "id": "2a20f52c-9baa-4b76-a7d5-d2fa121330af",
   "metadata": {},
   "outputs": [
    {
     "data": {
      "text/plain": [
       "Index(['eventCategory', 'eventName', 'eventSource', 'eventTime', 'eventType',\n",
       "       'recipientAccountId', 'sessionCredentialFromConsole', 'sourceIPAddress',\n",
       "       'timestamp', 'userAgent', 'event.dataset',\n",
       "       'requestParameters.cloudWatchLogGroupArn',\n",
       "       'requestParameters.destinationLocationArn',\n",
       "       'requestParameters.excludes', 'requestParameters.includes',\n",
       "       'requestParameters.name', 'requestParameters.options.logLevel',\n",
       "       'requestParameters.options.verifyMode',\n",
       "       'requestParameters.schedule.scheduleExpression',\n",
       "       'requestParameters.sourceLocationArn', 'requestParameters.tags',\n",
       "       'responseElements.taskArn', 'service.type', 'userIdentity.accessKeyId',\n",
       "       'userIdentity.accountId', 'userIdentity.arn',\n",
       "       'userIdentity.principalId',\n",
       "       'userIdentity.sessionContext.attributes.mfaAuthenticated',\n",
       "       'userIdentity.sessionContext.sessionIssuer.arn',\n",
       "       'userIdentity.sessionContext.sessionIssuer.principalId',\n",
       "       'userIdentity.sessionContext.sessionIssuer.type',\n",
       "       'userIdentity.sessionContext.sessionIssuer.userName',\n",
       "       'userIdentity.type'],\n",
       "      dtype='object')"
      ]
     },
     "execution_count": 3,
     "metadata": {},
     "output_type": "execute_result"
    }
   ],
   "source": [
    "df = pd.read_csv('CreateTask.csv')\n",
    "df.columns"
   ]
  },
  {
   "cell_type": "markdown",
   "id": "fed0d9cc-40d1-4ae4-b892-6f23704f0970",
   "metadata": {},
   "source": [
    "## Exfiltration via [DataSync Tasks](https://docs.aws.amazon.com/datasync/latest/userguide/API_Operations.html) (T1119: Automated Collection)"
   ]
  },
  {
   "cell_type": "code",
   "execution_count": 4,
   "id": "6542fc49-c1ed-492e-be3f-f2bcd4e26c6e",
   "metadata": {},
   "outputs": [
    {
     "data": {
      "text/html": [
       "<div>\n",
       "<style scoped>\n",
       "    .dataframe tbody tr th:only-of-type {\n",
       "        vertical-align: middle;\n",
       "    }\n",
       "\n",
       "    .dataframe tbody tr th {\n",
       "        vertical-align: top;\n",
       "    }\n",
       "\n",
       "    .dataframe thead th {\n",
       "        text-align: right;\n",
       "    }\n",
       "</style>\n",
       "<table border=\"1\" class=\"dataframe\">\n",
       "  <thead>\n",
       "    <tr style=\"text-align: right;\">\n",
       "      <th></th>\n",
       "      <th>sourceIPAddress</th>\n",
       "      <th>userIdentity.accountId</th>\n",
       "      <th>eventName</th>\n",
       "      <th>requestParameters.destinationLocationArn</th>\n",
       "      <th>requestParameters.sourceLocationArn</th>\n",
       "      <th>userAgent</th>\n",
       "      <th>userIdentity.arn</th>\n",
       "      <th>userIdentity.principalId</th>\n",
       "      <th>count</th>\n",
       "      <th>firstTime</th>\n",
       "      <th>lastTime</th>\n",
       "    </tr>\n",
       "  </thead>\n",
       "  <tbody>\n",
       "    <tr>\n",
       "      <th>0</th>\n",
       "      <td>11.58.123.47</td>\n",
       "      <td>9.420000e+11</td>\n",
       "      <td>CreateTask</td>\n",
       "      <td>arn:aws:datasync:canada-central-3:777797188214...</td>\n",
       "      <td>arn:aws:datasync:canada-central-3:942097188214...</td>\n",
       "      <td>Mozilla/5.0 (Windows NT 10.0; Win64; x64) Appl...</td>\n",
       "      <td>arn:aws:sts::777797188214:assumed-role/AWSRese...</td>\n",
       "      <td>spiderman.admin@milkyway.ca</td>\n",
       "      <td>2</td>\n",
       "      <td>2024-05-17 12:53:38+00:00</td>\n",
       "      <td>2024-05-17 12:53:38+00:00</td>\n",
       "    </tr>\n",
       "    <tr>\n",
       "      <th>1</th>\n",
       "      <td>15.58.123.47</td>\n",
       "      <td>9.420000e+11</td>\n",
       "      <td>CreateTask</td>\n",
       "      <td>arn:aws:datasync:canada-central-3:942097188214...</td>\n",
       "      <td>arn:aws:datasync:canada-central-3:942097188214...</td>\n",
       "      <td>Mozilla/5.0 (Windows NT 10.0; Win64; x64) Appl...</td>\n",
       "      <td>arn:aws:sts::942097188214:assumed-role/AWSRese...</td>\n",
       "      <td>gohan.admin@milkyway.ca</td>\n",
       "      <td>5469</td>\n",
       "      <td>2024-05-17 12:53:38+00:00</td>\n",
       "      <td>2024-05-17 13:03:48+00:00</td>\n",
       "    </tr>\n",
       "  </tbody>\n",
       "</table>\n",
       "</div>"
      ],
      "text/plain": [
       "  sourceIPAddress  userIdentity.accountId   eventName  \\\n",
       "0    11.58.123.47            9.420000e+11  CreateTask   \n",
       "1    15.58.123.47            9.420000e+11  CreateTask   \n",
       "\n",
       "            requestParameters.destinationLocationArn  \\\n",
       "0  arn:aws:datasync:canada-central-3:777797188214...   \n",
       "1  arn:aws:datasync:canada-central-3:942097188214...   \n",
       "\n",
       "                 requestParameters.sourceLocationArn  \\\n",
       "0  arn:aws:datasync:canada-central-3:942097188214...   \n",
       "1  arn:aws:datasync:canada-central-3:942097188214...   \n",
       "\n",
       "                                           userAgent  \\\n",
       "0  Mozilla/5.0 (Windows NT 10.0; Win64; x64) Appl...   \n",
       "1  Mozilla/5.0 (Windows NT 10.0; Win64; x64) Appl...   \n",
       "\n",
       "                                    userIdentity.arn  \\\n",
       "0  arn:aws:sts::777797188214:assumed-role/AWSRese...   \n",
       "1  arn:aws:sts::942097188214:assumed-role/AWSRese...   \n",
       "\n",
       "      userIdentity.principalId  count                 firstTime  \\\n",
       "0  spiderman.admin@milkyway.ca      2 2024-05-17 12:53:38+00:00   \n",
       "1      gohan.admin@milkyway.ca   5469 2024-05-17 12:53:38+00:00   \n",
       "\n",
       "                   lastTime  \n",
       "0 2024-05-17 12:53:38+00:00  \n",
       "1 2024-05-17 13:03:48+00:00  "
      ]
     },
     "execution_count": 4,
     "metadata": {},
     "output_type": "execute_result"
    }
   ],
   "source": [
    "# Load the data\n",
    "df = pd.read_csv('CreateTask.csv')\n",
    "\n",
    "# Filter the DataFrame based on required condition\n",
    "filtered_logs = df[(df['eventName'] == 'CreateTask') & (df['eventSource'] == 'datasync.amazonaws.com')]\n",
    "filtered_logs['eventTime'] = pd.to_datetime(filtered_logs['eventTime'])\n",
    "\n",
    "filtered_logs['userIdentity.principalId'] = df['userIdentity.principalId'].str.split(':', expand=True)[1]\n",
    "\n",
    "# Aggregate stats\n",
    "stats = filtered_logs.groupby(['sourceIPAddress', 'userIdentity.accountId', 'eventName', 'requestParameters.destinationLocationArn', 'requestParameters.sourceLocationArn', 'userAgent', 'userIdentity.arn', 'userIdentity.principalId']).agg(\n",
    "    count=pd.NamedAgg(column='eventTime', aggfunc='count'),\n",
    "    firstTime=pd.NamedAgg(column='eventTime', aggfunc='min'),\n",
    "    lastTime=pd.NamedAgg(column='eventTime', aggfunc='max')\n",
    ").reset_index()\n",
    "\n",
    "stats"
   ]
  },
  {
   "cell_type": "markdown",
   "id": "f5c057f5-9e85-4f9d-a20e-f44489e6a58f",
   "metadata": {},
   "source": [
    " "
   ]
  },
  {
   "cell_type": "markdown",
   "id": "88ac9298-cfad-44fa-a18a-74a50780a059",
   "metadata": {},
   "source": [
    "## AWS - GuardDuty Detector Resource Recon (T1619: Cloud Storage Object Discovery)"
   ]
  },
  {
   "cell_type": "code",
   "execution_count": null,
   "id": "9e8146a9-2353-4fe4-871c-0dd51b71ead7",
   "metadata": {
    "collapsed": true,
    "jupyter": {
     "outputs_hidden": true
    },
    "tags": []
   },
   "outputs": [],
   "source": [
    "# Load the data\n",
    "df = pd.read_csv('Logs.csv')\n",
    "\n",
    "# Filter the DataFrame based on required condition\n",
    "filtered_logs = df[(df['eventName'] == 'ListDetectors') & (~df['userIdentity.sessionContext.sessionIssuer.userName'].isin(['AWSServiceRoleForConfig', 'CloudGuard-Connect-RO-role']))]\n",
    "filtered_logs['eventTime'] = pd.to_datetime(filtered_logs['eventTime'])\n",
    "\n",
    "# Aggregate stats\n",
    "stats = filtered_logs.groupby(['sourceIPAddress', 'userIdentity.accountId', 'userAgent', 'userIdentity.principalId']).agg(\n",
    "    count=pd.NamedAgg(column='eventTime', aggfunc='count'),\n",
    "    firstTime=pd.NamedAgg(column='eventTime', aggfunc='min'),\n",
    "    lastTime=pd.NamedAgg(column='eventTime', aggfunc='max')\n",
    ").reset_index()\n",
    "\n",
    "stats"
   ]
  },
  {
   "cell_type": "markdown",
   "id": "b18f3406-6129-497e-b58a-fba4315933fe",
   "metadata": {},
   "source": [
    "## AWS - Publicly Exposed Database Instance (T1190: Exploit Public-Facing Application)"
   ]
  },
  {
   "cell_type": "code",
   "execution_count": null,
   "id": "6564bb88-f9e6-4d96-a91c-279059b9d634",
   "metadata": {},
   "outputs": [],
   "source": [
    "# Load the data\n",
    "df = pd.read_csv('Logs.csv')\n",
    "\n",
    "# Convert field to boolean\n",
    "df['responseElements.publiclyAccessible'] = df['responseElements.publiclyAccessible'].astype(bool)\n",
    "\n",
    "# Filter the DataFrame based on required condition\n",
    "filtered_logs = df[(df['eventName'] == 'ModifyDBInstance') & (~df['responseElements.publiclyAccessible'])]\n",
    "\n",
    "# Aggregate stats\n",
    "stats = filtered_logs.groupby(['sourceIPAddress', 'userIdentity.accountId', 'userAgent', 'userIdentity.principalId']).agg(\n",
    "    count=pd.NamedAgg(column='eventTime', aggfunc='count'),\n",
    "    firstTime=pd.NamedAgg(column='eventTime', aggfunc='min'),\n",
    "    lastTime=pd.NamedAgg(column='eventTime', aggfunc='max')\n",
    ").reset_index()\n",
    "\n",
    "stats"
   ]
  },
  {
   "cell_type": "markdown",
   "id": "afaf2973-585d-4271-bb44-fac889550599",
   "metadata": {},
   "source": [
    " "
   ]
  },
  {
   "cell_type": "markdown",
   "id": "eaa5ebd6-ee8d-461a-8280-1a35e543c740",
   "metadata": {},
   "source": [
    "## AWS - IAM Policy Changes (T1484: Domain or Tenant Policy Modification)"
   ]
  },
  {
   "cell_type": "code",
   "execution_count": null,
   "id": "135ee888-42b4-43e1-ac0a-b96933338ab3",
   "metadata": {},
   "outputs": [],
   "source": [
    "# Load the data\n",
    "df = pd.read_csv('Logs.csv')\n",
    "\n",
    "# Filter the DataFrame based on required condition\n",
    "filtered_logs = df[\n",
    "    (df['eventName'].isin(['CreatePolicy', 'UpdatePolicy', 'DeletePolicy'])) &\n",
    "    (df['eventSource'] == 'iam.amazonaws.com') &\n",
    "    (~df['userIdentity.principalId'].str.contains(':AWSCloudFormation')) &\n",
    "    (~df['userIdentity.sessionContext.sessionIssuer.userName'].str.startswith('AWSReservedSSO'))\n",
    "]\n",
    "\n",
    "# Aggregate stats\n",
    "stats = filtered_logs.groupby(['sourceIPAddress', 'userIdentity.accountId', 'userAgent', 'userIdentity.principalId']).agg(\n",
    "    count=pd.NamedAgg(column='eventTime', aggfunc='count'),\n",
    "    firstTime=pd.NamedAgg(column='eventTime', aggfunc='min'),\n",
    "    lastTime=pd.NamedAgg(column='eventTime', aggfunc='max')\n",
    ").reset_index()\n",
    "\n",
    "stats"
   ]
  },
  {
   "cell_type": "markdown",
   "id": "cff531a0-b2e6-4f36-bff2-6df5adbaba77",
   "metadata": {},
   "source": [
    " "
   ]
  },
  {
   "cell_type": "markdown",
   "id": "dd9cde9b-cbdd-4c1c-8593-780353db811d",
   "metadata": {},
   "source": [
    "## AWS - Non MFA Management Console Login (T1556.006: Modify Authentication Process: Multi-Factor Authentication)"
   ]
  },
  {
   "cell_type": "code",
   "execution_count": null,
   "id": "712850cb-8ba1-4d0f-9e49-6c38ba2aaf3f",
   "metadata": {
    "tags": []
   },
   "outputs": [],
   "source": [
    "# Load the data\n",
    "df = pd.read_csv('Logs.csv')\n",
    "\n",
    "# Filter the DataFrame based on required condition\n",
    "filtered_logs = df[(df['eventName'] == 'ConsoleLogin') &\n",
    "                   ~(df['additionalEventData.MFAUsed'].eq('Yes') & df['responseElements.ConsoleLogin'].eq('Failure')) &\n",
    "                   ~(df['userIdentity.sessionContext.sessionIssuer.userName'].str.startswith('AWSReservedSSO'))]\n",
    "\n",
    "# Aggregate stats\n",
    "stats = filtered_logs.groupby(['sourceIPAddress', 'userIdentity.accountId', 'userAgent', 'userIdentity.principalId']).agg(\n",
    "    count=pd.NamedAgg(column='eventTime', aggfunc='count'),\n",
    "    firstTime=pd.NamedAgg(column='eventTime', aggfunc='min'),\n",
    "    lastTime=pd.NamedAgg(column='eventTime', aggfunc='max')\n",
    ").reset_index()\n",
    "\n",
    "stats"
   ]
  },
  {
   "cell_type": "markdown",
   "id": "a17e2326-9dca-47f2-a4ba-5498282785c4",
   "metadata": {},
   "source": [
    " "
   ]
  },
  {
   "cell_type": "markdown",
   "id": "ac606608-96d7-47d7-ac56-5f3206ccfb2a",
   "metadata": {},
   "source": [
    "## AWS CloudTrail Log Manipulation (T1562.001: Impair Defenses: Disable or Modify Tools)"
   ]
  },
  {
   "cell_type": "code",
   "execution_count": null,
   "id": "b75a40dc-2a4b-4360-ba97-b4cde5d2ef34",
   "metadata": {},
   "outputs": [],
   "source": [
    "import pandas as pd\n",
    "import re\n",
    "\n",
    "# Load the data\n",
    "df = pd.read_csv('Logs.csv')\n",
    "\n",
    "# Filter the DataFrame based on required condition\n",
    "filtered_logs = df[\n",
    "    (df['eventName'].isin(['UpdateTrail', 'DeleteTrail', 'StopLogging', 'DeleteFlowLogs', 'DeleteEventBus', 'DeleteLogGroup'])) &\n",
    "    (~df['userIdentity.sessionContext.sessionIssuer.userName'].str.startswith('AWSReservedSSO')) &\n",
    "    (~df['sourceIPAddress'].str.contains('cloudformation\\.amazonaws\\.com')) &\n",
    "    (~df['userIdentity.principalId'].str.contains('AMS-OsConfiguration')) &\n",
    "    (~df['userAgent'].str.contains('console.amazonaws.com'))\n",
    "]\n",
    "\n",
    "\n",
    "# Aggregate stats\n",
    "stats = filtered_logs.groupby(['sourceIPAddress', 'userIdentity.accountId', 'userAgent', 'userIdentity.principalId']).agg(\n",
    "    count=pd.NamedAgg(column='eventTime', aggfunc='count'),\n",
    "    firstTime=pd.NamedAgg(column='eventTime', aggfunc='min'),\n",
    "    lastTime=pd.NamedAgg(column='eventTime', aggfunc='max')\n",
    ").reset_index()\n",
    "\n",
    "stats\n"
   ]
  },
  {
   "cell_type": "markdown",
   "id": "3caded87-4180-41b2-8f13-fc8ad3fdbe83",
   "metadata": {},
   "source": [
    "## from AWS to AWWW"
   ]
  },
  {
   "cell_type": "code",
   "execution_count": 5,
   "id": "72f1d155-5b2e-48b7-bea6-4a04631af5cb",
   "metadata": {
    "tags": []
   },
   "outputs": [
    {
     "data": {
      "text/plain": [
       "(15225, 13)"
      ]
     },
     "execution_count": 5,
     "metadata": {},
     "output_type": "execute_result"
    }
   ],
   "source": [
    "df = pd.read_csv('AWSApiCall.csv')\n",
    "df.shape"
   ]
  },
  {
   "cell_type": "code",
   "execution_count": 6,
   "id": "7b68fcef-1c0e-45f3-a2af-c2d14c79f484",
   "metadata": {},
   "outputs": [
    {
     "data": {
      "text/plain": [
       "(15225, 13)"
      ]
     },
     "execution_count": 6,
     "metadata": {},
     "output_type": "execute_result"
    }
   ],
   "source": [
    "df['accountId'] = df['userIdentity'].apply(lambda x: x.get('accountId') if isinstance(x, dict) else None)\n",
    "df['invokedBy'] = df['userIdentity'].apply(lambda x: x.get('invokedBy') if isinstance(x, dict) else None)\n",
    "\n",
    "df.shape"
   ]
  },
  {
   "cell_type": "code",
   "execution_count": 7,
   "id": "45e1c8a7-19eb-473e-91b0-8734bdaec119",
   "metadata": {},
   "outputs": [
    {
     "data": {
      "text/plain": [
       "array([nan,\n",
       "       'User: son goku is not authorized to perform: xray:GetSamplingRules because no identity-based policy allows the xray:GetSamplingRules action',\n",
       "       'The specified bucket does not have a website configuration',\n",
       "       'The public access block configuration was not found',\n",
       "       'Incorrect username or password.'], dtype=object)"
      ]
     },
     "execution_count": 7,
     "metadata": {},
     "output_type": "execute_result"
    }
   ],
   "source": [
    "df['errorMessage'].unique()[:5]"
   ]
  },
  {
   "cell_type": "code",
   "execution_count": 9,
   "id": "7b0b9fa4-ab8e-4d4d-b86f-da5db3a8fc7b",
   "metadata": {},
   "outputs": [
    {
     "name": "stdout",
     "output_type": "stream",
     "text": [
      "Epoch 1/50\n",
      "381/381 [==============================] - 1s 2ms/step - loss: 1.0010 - val_loss: 0.9959\n",
      "Epoch 2/50\n",
      "381/381 [==============================] - 1s 2ms/step - loss: 1.0009 - val_loss: 0.9958\n",
      "Epoch 3/50\n",
      "381/381 [==============================] - 1s 2ms/step - loss: 1.0007 - val_loss: 0.9957\n",
      "Epoch 4/50\n",
      "381/381 [==============================] - 1s 2ms/step - loss: 1.0005 - val_loss: 0.9957\n",
      "Epoch 5/50\n",
      "381/381 [==============================] - 1s 2ms/step - loss: 1.0004 - val_loss: 0.9957\n",
      "Epoch 6/50\n",
      "381/381 [==============================] - 1s 2ms/step - loss: 1.0004 - val_loss: 0.9956\n",
      "Epoch 7/50\n",
      "381/381 [==============================] - 1s 2ms/step - loss: 1.0003 - val_loss: 0.9956\n",
      "Epoch 8/50\n",
      "381/381 [==============================] - 1s 2ms/step - loss: 1.0002 - val_loss: 0.9956\n",
      "Epoch 9/50\n",
      "381/381 [==============================] - 1s 2ms/step - loss: 1.0002 - val_loss: 0.9956\n",
      "Epoch 10/50\n",
      "381/381 [==============================] - 1s 2ms/step - loss: 1.0002 - val_loss: 0.9956\n",
      "Epoch 11/50\n",
      "381/381 [==============================] - 1s 2ms/step - loss: 1.0001 - val_loss: 0.9956\n",
      "Epoch 12/50\n",
      "381/381 [==============================] - 1s 2ms/step - loss: 1.0001 - val_loss: 0.9956\n",
      "Epoch 13/50\n",
      "381/381 [==============================] - 1s 2ms/step - loss: 1.0001 - val_loss: 0.9956\n",
      "Epoch 14/50\n",
      "381/381 [==============================] - 1s 2ms/step - loss: 1.0001 - val_loss: 0.9956\n",
      "Epoch 15/50\n",
      "381/381 [==============================] - 1s 2ms/step - loss: 1.0001 - val_loss: 0.9956\n",
      "Epoch 16/50\n",
      "381/381 [==============================] - 1s 2ms/step - loss: 1.0000 - val_loss: 0.9956\n",
      "Epoch 17/50\n",
      "381/381 [==============================] - 1s 2ms/step - loss: 1.0000 - val_loss: 0.9956\n",
      "Epoch 18/50\n",
      "381/381 [==============================] - 1s 2ms/step - loss: 1.0000 - val_loss: 0.9956\n",
      "Epoch 19/50\n",
      "381/381 [==============================] - 1s 2ms/step - loss: 1.0000 - val_loss: 0.9956\n",
      "Epoch 20/50\n",
      "381/381 [==============================] - 1s 2ms/step - loss: 1.0000 - val_loss: 0.9956\n",
      "Epoch 21/50\n",
      "381/381 [==============================] - 1s 3ms/step - loss: 1.0000 - val_loss: 0.9956\n",
      "Epoch 22/50\n",
      "381/381 [==============================] - 2s 5ms/step - loss: 0.9999 - val_loss: 0.9956\n",
      "Epoch 23/50\n",
      "381/381 [==============================] - 2s 5ms/step - loss: 0.9999 - val_loss: 0.9956\n",
      "Epoch 24/50\n",
      "381/381 [==============================] - 2s 5ms/step - loss: 0.9999 - val_loss: 0.9956\n",
      "Epoch 25/50\n",
      "381/381 [==============================] - 2s 5ms/step - loss: 0.9999 - val_loss: 0.9956\n",
      "Epoch 26/50\n",
      "381/381 [==============================] - 2s 4ms/step - loss: 0.9999 - val_loss: 0.9956\n",
      "Epoch 27/50\n",
      "381/381 [==============================] - 1s 4ms/step - loss: 0.9999 - val_loss: 0.9956\n",
      "Epoch 28/50\n",
      "381/381 [==============================] - 1s 4ms/step - loss: 0.9998 - val_loss: 0.9956\n",
      "Epoch 29/50\n",
      "381/381 [==============================] - 1s 4ms/step - loss: 0.9998 - val_loss: 0.9957\n",
      "Epoch 30/50\n",
      "381/381 [==============================] - 1s 4ms/step - loss: 0.9998 - val_loss: 0.9957\n",
      "Epoch 31/50\n",
      "381/381 [==============================] - 1s 4ms/step - loss: 0.9998 - val_loss: 0.9957\n",
      "Epoch 32/50\n",
      "381/381 [==============================] - 1s 4ms/step - loss: 0.9998 - val_loss: 0.9957\n",
      "Epoch 33/50\n",
      "381/381 [==============================] - 1s 4ms/step - loss: 0.9998 - val_loss: 0.9957\n",
      "Epoch 34/50\n",
      "381/381 [==============================] - 1s 4ms/step - loss: 0.9998 - val_loss: 0.9958\n",
      "Epoch 35/50\n",
      "381/381 [==============================] - 1s 4ms/step - loss: 0.9998 - val_loss: 0.9958\n",
      "Epoch 36/50\n",
      "381/381 [==============================] - 1s 4ms/step - loss: 0.9998 - val_loss: 0.9958\n",
      "Epoch 37/50\n",
      "381/381 [==============================] - 1s 4ms/step - loss: 0.9998 - val_loss: 0.9958\n",
      "Epoch 38/50\n",
      "381/381 [==============================] - 1s 4ms/step - loss: 0.9997 - val_loss: 0.9959\n",
      "Epoch 39/50\n",
      "381/381 [==============================] - 1s 4ms/step - loss: 0.9997 - val_loss: 0.9959\n",
      "Epoch 40/50\n",
      "381/381 [==============================] - 1s 4ms/step - loss: 0.9997 - val_loss: 0.9959\n",
      "Epoch 41/50\n",
      "381/381 [==============================] - 1s 4ms/step - loss: 0.9997 - val_loss: 0.9959\n",
      "Epoch 42/50\n",
      "381/381 [==============================] - 1s 4ms/step - loss: 0.9997 - val_loss: 0.9959\n",
      "Epoch 43/50\n",
      "381/381 [==============================] - 1s 4ms/step - loss: 0.9997 - val_loss: 0.9960\n",
      "Epoch 44/50\n",
      "381/381 [==============================] - 1s 4ms/step - loss: 0.9997 - val_loss: 0.9960\n",
      "Epoch 45/50\n",
      "381/381 [==============================] - 1s 4ms/step - loss: 0.9997 - val_loss: 0.9960\n",
      "Epoch 46/50\n",
      "381/381 [==============================] - 1s 4ms/step - loss: 0.9997 - val_loss: 0.9960\n",
      "Epoch 47/50\n",
      "381/381 [==============================] - 1s 4ms/step - loss: 0.9997 - val_loss: 0.9960\n",
      "Epoch 48/50\n",
      "381/381 [==============================] - 2s 5ms/step - loss: 0.9997 - val_loss: 0.9961\n",
      "Epoch 49/50\n",
      "381/381 [==============================] - 2s 4ms/step - loss: 0.9997 - val_loss: 0.9961\n",
      "Epoch 50/50\n",
      "381/381 [==============================] - 1s 4ms/step - loss: 0.9997 - val_loss: 0.9961\n",
      "476/476 [==============================] - 1s 2ms/step\n"
     ]
    },
    {
     "data": {
      "image/png": "[encoded data removed]",
      "text/plain": [
       "<Figure size 1000x600 with 1 Axes>"
      ]
     },
     "metadata": {},
     "output_type": "display_data"
    },
    {
     "data": {
      "text/html": [
       "<div>\n",
       "<style scoped>\n",
       "    .dataframe tbody tr th:only-of-type {\n",
       "        vertical-align: middle;\n",
       "    }\n",
       "\n",
       "    .dataframe tbody tr th {\n",
       "        vertical-align: top;\n",
       "    }\n",
       "\n",
       "    .dataframe thead th {\n",
       "        text-align: right;\n",
       "    }\n",
       "</style>\n",
       "<table border=\"1\" class=\"dataframe\">\n",
       "  <thead>\n",
       "    <tr style=\"text-align: right;\">\n",
       "      <th></th>\n",
       "      <th>eventName</th>\n",
       "      <th>eventSource</th>\n",
       "      <th>errorCode</th>\n",
       "      <th>accountId</th>\n",
       "    </tr>\n",
       "  </thead>\n",
       "  <tbody>\n",
       "    <tr>\n",
       "      <th>10</th>\n",
       "      <td>UpdateInstanceInformation</td>\n",
       "      <td>ssm.amazonaws.com</td>\n",
       "      <td>NaN</td>\n",
       "      <td>8.970000e+11</td>\n",
       "    </tr>\n",
       "    <tr>\n",
       "      <th>26</th>\n",
       "      <td>Decrypt</td>\n",
       "      <td>kms.amazonaws.com</td>\n",
       "      <td>NaN</td>\n",
       "      <td>NaN</td>\n",
       "    </tr>\n",
       "    <tr>\n",
       "      <th>49</th>\n",
       "      <td>DescribeEventAggregates</td>\n",
       "      <td>health.amazonaws.com</td>\n",
       "      <td>NaN</td>\n",
       "      <td>8.970000e+11</td>\n",
       "    </tr>\n",
       "    <tr>\n",
       "      <th>106</th>\n",
       "      <td>DescribeStream</td>\n",
       "      <td>dynamodb.amazonaws.com</td>\n",
       "      <td>NaN</td>\n",
       "      <td>6.490000e+11</td>\n",
       "    </tr>\n",
       "    <tr>\n",
       "      <th>108</th>\n",
       "      <td>DescribeStream</td>\n",
       "      <td>dynamodb.amazonaws.com</td>\n",
       "      <td>NaN</td>\n",
       "      <td>6.490000e+11</td>\n",
       "    </tr>\n",
       "    <tr>\n",
       "      <th>...</th>\n",
       "      <td>...</td>\n",
       "      <td>...</td>\n",
       "      <td>...</td>\n",
       "      <td>...</td>\n",
       "    </tr>\n",
       "    <tr>\n",
       "      <th>15197</th>\n",
       "      <td>CreateLogStream</td>\n",
       "      <td>logs.amazonaws.com</td>\n",
       "      <td>NaN</td>\n",
       "      <td>8.970000e+11</td>\n",
       "    </tr>\n",
       "    <tr>\n",
       "      <th>15199</th>\n",
       "      <td>CreateLogStream</td>\n",
       "      <td>logs.amazonaws.com</td>\n",
       "      <td>NaN</td>\n",
       "      <td>8.970000e+11</td>\n",
       "    </tr>\n",
       "    <tr>\n",
       "      <th>15204</th>\n",
       "      <td>CreateLogStream</td>\n",
       "      <td>logs.amazonaws.com</td>\n",
       "      <td>NaN</td>\n",
       "      <td>8.970000e+11</td>\n",
       "    </tr>\n",
       "    <tr>\n",
       "      <th>15205</th>\n",
       "      <td>CreateLogStream</td>\n",
       "      <td>logs.amazonaws.com</td>\n",
       "      <td>NaN</td>\n",
       "      <td>8.970000e+11</td>\n",
       "    </tr>\n",
       "    <tr>\n",
       "      <th>15210</th>\n",
       "      <td>ListUsers</td>\n",
       "      <td>cognito-idp.amazonaws.com</td>\n",
       "      <td>NaN</td>\n",
       "      <td>9.350000e+11</td>\n",
       "    </tr>\n",
       "  </tbody>\n",
       "</table>\n",
       "<p>2176 rows × 4 columns</p>\n",
       "</div>"
      ],
      "text/plain": [
       "                       eventName                eventSource errorCode  \\\n",
       "10     UpdateInstanceInformation          ssm.amazonaws.com       NaN   \n",
       "26                       Decrypt          kms.amazonaws.com       NaN   \n",
       "49       DescribeEventAggregates       health.amazonaws.com       NaN   \n",
       "106               DescribeStream     dynamodb.amazonaws.com       NaN   \n",
       "108               DescribeStream     dynamodb.amazonaws.com       NaN   \n",
       "...                          ...                        ...       ...   \n",
       "15197            CreateLogStream         logs.amazonaws.com       NaN   \n",
       "15199            CreateLogStream         logs.amazonaws.com       NaN   \n",
       "15204            CreateLogStream         logs.amazonaws.com       NaN   \n",
       "15205            CreateLogStream         logs.amazonaws.com       NaN   \n",
       "15210                  ListUsers  cognito-idp.amazonaws.com       NaN   \n",
       "\n",
       "          accountId  \n",
       "10     8.970000e+11  \n",
       "26              NaN  \n",
       "49     8.970000e+11  \n",
       "106    6.490000e+11  \n",
       "108    6.490000e+11  \n",
       "...             ...  \n",
       "15197  8.970000e+11  \n",
       "15199  8.970000e+11  \n",
       "15204  8.970000e+11  \n",
       "15205  8.970000e+11  \n",
       "15210  9.350000e+11  \n",
       "\n",
       "[2176 rows x 4 columns]"
      ]
     },
     "execution_count": 9,
     "metadata": {},
     "output_type": "execute_result"
    }
   ],
   "source": [
    "import pandas as pd\n",
    "import numpy as np\n",
    "import warnings\n",
    "warnings.filterwarnings('ignore')\n",
    "import matplotlib.pyplot as plt\n",
    "from sklearn.preprocessing import StandardScaler\n",
    "from sklearn.model_selection import train_test_split\n",
    "from keras.models import Model\n",
    "from keras.layers import Input, Dense\n",
    "\n",
    "df = pd.read_csv('AWSApiCall.csv')\n",
    "\n",
    "features = ['errorCode', 'sourceIPAddress']\n",
    "\n",
    "df_filtered = df[features]\n",
    "\n",
    "# Fill missing values\n",
    "df_filtered['errorCode'].fillna('NoError', inplace=True)\n",
    "df_filtered['sourceIPAddress'].fillna('Unknown', inplace=True)\n",
    "\n",
    "# One-hot encode categorical features\n",
    "df_encoded = pd.get_dummies(df_filtered)\n",
    "\n",
    "# Standardize the data\n",
    "scaler = StandardScaler()\n",
    "df_scaled = scaler.fit_transform(df_encoded)\n",
    "\n",
    "X_train, X_test = train_test_split(df_scaled, test_size=0.2, random_state=42)\n",
    "\n",
    "# Define the autoencoder model\n",
    "input_dim = X_train.shape[1]\n",
    "encoding_dim = 2  # Number of neurons in the hidden layer\n",
    "\n",
    "input_layer = Input(shape=(input_dim, ))\n",
    "encoder = Dense(encoding_dim, activation=\"relu\")(input_layer)\n",
    "decoder = Dense(input_dim, activation=\"relu\")(encoder)\n",
    "\n",
    "autoencoder = Model(inputs=input_layer, outputs=decoder)\n",
    "\n",
    "# Compile & Train the model\n",
    "autoencoder.compile(optimizer='adam', loss='mean_squared_error')\n",
    "autoencoder.fit(X_train, X_train, epochs=50, batch_size=32, shuffle=True, validation_data=(X_test, X_test))\n",
    "\n",
    "predictions = autoencoder.predict(df_scaled)\n",
    "\n",
    "# Calculate reconstruction errors\n",
    "mse = np.mean(np.power(df_scaled - predictions, 2), axis=1)\n",
    "\n",
    "threshold = np.mean(mse) + 2 * np.std(mse)\n",
    "\n",
    "anomalies = df[mse > threshold]\n",
    "\n",
    "plt.figure(figsize=(10, 6))\n",
    "plt.hist(mse, bins=50)\n",
    "plt.xlabel('Reconstruction Error')\n",
    "plt.ylabel('Frequency')\n",
    "plt.title('Distribution of Reconstruction Errors')\n",
    "plt.axvline(x=threshold, color='r', linestyle='--', label='Threshold')\n",
    "plt.legend()\n",
    "plt.show()\n",
    "\n",
    "anomalies[['eventName', 'eventSource', 'errorCode', 'accountId']]"
   ]
  },
  {
   "cell_type": "code",
   "execution_count": 109,
   "id": "51f3087d-53f9-4889-b875-a906382c48a2",
   "metadata": {},
   "outputs": [
    {
     "data": {
      "text/plain": [
       "array([nan, 'NotAuthorizedException', 'ExpiredCodeException',\n",
       "       'AccessDenied', 'InvocationDoesNotExist',\n",
       "       'EntityNotFoundException', 'ResourceAlreadyExistsException',\n",
       "       'NoSuchTagSet', 'Client.InvalidInstanceID.NotFound',\n",
       "       'UnsupportedUserStateException', 'Client.UnauthorizedOperation',\n",
       "       'AlreadyExistsException', 'CredentialReportNotPresentException',\n",
       "       'LimitExceededException', 'BucketAlreadyOwnedByYou',\n",
       "       'NoSuchWebsiteConfiguration',\n",
       "       'ReplicationConfigurationNotFoundError'], dtype=object)"
      ]
     },
     "execution_count": 109,
     "metadata": {},
     "output_type": "execute_result"
    }
   ],
   "source": [
    "anomalies['errorCode'].unique()"
   ]
  },
  {
   "cell_type": "code",
   "execution_count": null,
   "id": "8febf664-70e2-4af8-9b83-1e9a2a62ed71",
   "metadata": {},
   "outputs": [],
   "source": []
  }
 ],
 "metadata": {
  "kernelspec": {
   "display_name": "Python 3 (ipykernel)",
   "language": "python",
   "name": "python3"
  },
  "language_info": {
   "codemirror_mode": {
    "name": "ipython",
    "version": 3
   },
   "file_extension": ".py",
   "mimetype": "text/x-python",
   "name": "python",
   "nbconvert_exporter": "python",
   "pygments_lexer": "ipython3",
   "version": "3.11.1"
  }
 },
 "nbformat": 4,
 "nbformat_minor": 5
}
